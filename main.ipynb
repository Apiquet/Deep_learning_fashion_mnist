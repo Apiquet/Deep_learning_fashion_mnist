{
 "cells": [
  {
   "cell_type": "code",
   "execution_count": 2,
   "metadata": {},
   "outputs": [],
   "source": [
    "import tensorflow as tf\n",
    "import numpy as np\n",
    "from datetime import datetime\n",
    "import matplotlib.pyplot as plt\n",
    "from scipy.ndimage import rotate\n",
    "from PIL import Image, ImageEnhance\n",
    "\n",
    "from utils import *\n",
    "\n",
    "%load_ext autoreload\n",
    "%autoreload 2\n",
    "    \n",
    "MODEL_PATH = \"models/3conv_1pool/\""
   ]
  },
  {
   "cell_type": "code",
   "execution_count": 66,
   "metadata": {},
   "outputs": [],
   "source": [
    "(X_train_60000, y_train_60000), (X_test, y_test) = tf.keras.datasets.fashion_mnist.load_data()"
   ]
  },
  {
   "cell_type": "code",
   "execution_count": 4,
   "metadata": {},
   "outputs": [],
   "source": [
    "samples_for_training = 60000\n",
    "X_train, y_train = X_train_60000[:samples_for_training], y_train_60000[:samples_for_training]"
   ]
  },
  {
   "cell_type": "markdown",
   "metadata": {},
   "source": [
    "## Data visualization"
   ]
  },
  {
   "cell_type": "code",
   "execution_count": 4,
   "metadata": {},
   "outputs": [
    {
     "data": {
      "image/png": "[encoded data removed]",
      "text/plain": [
       "<Figure size 720x720 with 10 Axes>"
      ]
     },
     "metadata": {
      "needs_background": "light"
     },
     "output_type": "display_data"
    }
   ],
   "source": [
    "samples_to_show = 10\n",
    "plt.figure(figsize=(10,10))\n",
    "for iteration in range(samples_to_show):\n",
    "    plt.subplot(samples_to_show, 10, iteration + 1)\n",
    "    plot_image(X_train[iteration])"
   ]
  },
  {
   "cell_type": "code",
   "execution_count": 5,
   "metadata": {},
   "outputs": [
    {
     "data": {
      "text/plain": [
       "array([9, 0, 0, 3, 0, 2, 7, 2, 5, 5], dtype=uint8)"
      ]
     },
     "execution_count": 5,
     "metadata": {},
     "output_type": "execute_result"
    }
   ],
   "source": [
    "y_train[:samples_to_show]"
   ]
  },
  {
   "cell_type": "markdown",
   "metadata": {},
   "source": [
    "## Explanation\n",
    "\n",
    "| Label | Description |\n",
    "| --- | --- |\n",
    "| 0 | T-shirt/top |\n",
    "| 1 | Trouser |\n",
    "| 2 | Pullover |\n",
    "| 3 | Dress |\n",
    "| 4 | Coat |\n",
    "| 5 | Sandal |\n",
    "| 6 | Shirt |\n",
    "| 7 | Sneaker |\n",
    "| 8 | Bag |\n",
    "| 9 | Ankle boot |"
   ]
  },
  {
   "cell_type": "markdown",
   "metadata": {},
   "source": [
    "## Neural Network"
   ]
  },
  {
   "cell_type": "code",
   "execution_count": 5,
   "metadata": {},
   "outputs": [],
   "source": [
    "height = 28\n",
    "width = 28\n",
    "channels = 1"
   ]
  },
  {
   "cell_type": "markdown",
   "metadata": {},
   "source": [
    "### 3 conv, 1 pool, BN + Dropout"
   ]
  },
  {
   "cell_type": "code",
   "execution_count": 7,
   "metadata": {},
   "outputs": [],
   "source": [
    "tf.reset_default_graph()\n",
    "\n",
    "conv1_fmaps = 16\n",
    "conv1_ksize = 4\n",
    "conv1_stride = 1\n",
    "\n",
    "conv2_fmaps = 32\n",
    "conv2_ksize = 4\n",
    "conv2_stride = 2\n",
    "\n",
    "conv3_fmaps = 64\n",
    "conv3_ksize = 4\n",
    "conv3_stride = 2\n",
    "\n",
    "n_fc1 = 200\n",
    "n_fc2 = 100\n",
    "n_outputs = 10\n",
    "\n",
    "in_training_mode = tf.placeholder_with_default(False, shape=[], name='training')\n",
    "dropout_rate = 0.5\n",
    "\n",
    "\n",
    "with tf.name_scope(\"inputs\"):\n",
    "    X = tf.placeholder(tf.float32, shape=[None, height, width], name=\"X\")\n",
    "    X_reshaped = tf.reshape(X, shape=[-1, height, width, channels])\n",
    "    X_normed = tf.layers.batch_normalization(X_reshaped, momentum=0.9, training=in_training_mode) \n",
    "    y = tf.placeholder(tf.int32, shape=[None], name=\"y\")\n",
    "\n",
    "conv1 = tf.layers.conv2d(X_normed, filters=conv1_fmaps, kernel_size=conv1_ksize,\n",
    "                         strides=conv1_stride, padding=\"SAME\",\n",
    "                         activation=None, name=\"conv1\")\n",
    "conv1_BN = tf.layers.batch_normalization(conv1, momentum=0.9, training=in_training_mode)\n",
    "conv1_relu = tf.nn.relu(conv1_BN) \n",
    "\n",
    "conv2 = tf.layers.conv2d(conv1_relu, filters=conv2_fmaps, kernel_size=conv2_ksize,\n",
    "                         strides=conv2_stride, padding=\"SAME\",\n",
    "                         activation=None, name=\"conv2\")\n",
    "\n",
    "conv2_BN = tf.layers.batch_normalization(conv2, momentum=0.9, training=in_training_mode)\n",
    "conv2_relu = tf.nn.relu(conv2_BN) \n",
    "\n",
    "pool1 = tf.nn.max_pool(conv2_relu, ksize=[1, 2, 2, 1], strides=[1, 2, 2, 1], padding=\"VALID\", name=\"pool1\")\n",
    "    \n",
    "\n",
    "conv3 = tf.layers.conv2d(pool1, filters=conv3_fmaps, kernel_size=conv3_ksize,\n",
    "                         strides=conv3_stride, padding=\"SAME\",\n",
    "                         activation=None, name=\"conv3\")    \n",
    "conv3_BN = tf.layers.batch_normalization(conv3, momentum=0.9, training=in_training_mode)\n",
    "conv3_relu = tf.nn.relu(conv3_BN) \n",
    "\n",
    "'''with tf.name_scope(\"pool2\"):\n",
    "    pool2 = tf.nn.max_pool(conv3_relu, ksize=[1, 2, 2, 1], strides=[1, 2, 2, 1], padding=\"VALID\")\n",
    "    pool2_flat = tf.reshape(conv3_relu, shape=[-1, pool2_fmaps * int(pool2.shape[1]) * int(pool2.shape[1])])\n",
    "'''\n",
    "conv3_flat = tf.reshape(conv3_relu, shape=[-1, conv3_fmaps * int(conv3_relu.shape[1]) * int(conv3_relu.shape[1])])\n",
    "                        \n",
    "with tf.name_scope(\"fc1\"):\n",
    "    fc1 = tf.layers.dense(conv3_flat, n_fc1, activation=tf.nn.relu, name=\"fc1\")\n",
    "    fc1_drop = tf.layers.dropout(fc1, dropout_rate, training=in_training_mode)\n",
    "\n",
    "with tf.name_scope(\"fc2\"):\n",
    "    fc2 = tf.layers.dense(fc1_drop, n_fc2, activation=tf.nn.relu, name=\"fc2\")\n",
    "    fc2_drop = tf.layers.dropout(fc2, dropout_rate, training=in_training_mode)\n",
    "    \n",
    "with tf.name_scope(\"output\"):\n",
    "    logits = tf.layers.dense(fc2_drop, n_outputs, name=\"output\")\n",
    "    Y_proba = tf.nn.softmax(logits, name=\"Y_proba\")\n",
    "\n",
    "update_ops = tf.get_collection(tf.GraphKeys.UPDATE_OPS)\n",
    "with tf.control_dependencies(update_ops):\n",
    "    xentropy = tf.nn.sparse_softmax_cross_entropy_with_logits(logits=logits, labels=y)\n",
    "    loss = tf.reduce_mean(xentropy)\n",
    "    loss_ = tf.summary.scalar('loss', loss)\n",
    "    optimizer = tf.train.AdamOptimizer()\n",
    "    training_op = optimizer.minimize(loss)\n",
    "\n",
    "with tf.name_scope(\"eval\"):\n",
    "    correct = tf.nn.in_top_k(logits, y, 1)\n",
    "    accuracy_train = tf.reduce_mean(tf.cast(correct, tf.float32))\n",
    "    accuracy_test = tf.reduce_mean(tf.cast(correct, tf.float32))\n",
    "    \n",
    "    accuracy_train_ = tf.summary.scalar('accuracy_train', accuracy_train)\n",
    "    accuracy_test_ = tf.summary.scalar('accuracy_test', accuracy_test)\n",
    "\n",
    "with tf.name_scope(\"init_and_save\"):\n",
    "    init = tf.global_variables_initializer()\n",
    "    saver = tf.train.Saver()"
   ]
  },
  {
   "cell_type": "markdown",
   "metadata": {},
   "source": [
    "### 3 conv, 1 pool, BN"
   ]
  },
  {
   "cell_type": "code",
   "execution_count": 133,
   "metadata": {},
   "outputs": [],
   "source": [
    "tf.reset_default_graph()\n",
    "\n",
    "conv1_fmaps = 16\n",
    "conv1_ksize = 4\n",
    "conv1_stride = 1\n",
    "\n",
    "conv2_fmaps = 32\n",
    "conv2_ksize = 4\n",
    "conv2_stride = 2\n",
    "\n",
    "pool1_fmaps = conv1_fmaps\n",
    "\n",
    "conv3_fmaps = 64\n",
    "conv3_ksize = 4\n",
    "conv3_stride = 2\n",
    "\n",
    "conv4_fmaps = 48\n",
    "conv4_ksize = 4\n",
    "conv4_stride = 2\n",
    "\n",
    "pool2_fmaps = conv3_fmaps\n",
    "\n",
    "n_fc1 = 200\n",
    "n_fc2 = 100\n",
    "n_outputs = 10\n",
    "\n",
    "in_training_mode = tf.placeholder_with_default(False, shape=[], name='training')\n",
    "#dropout_rate = 0.5\n",
    "\n",
    "\n",
    "with tf.name_scope(\"inputs\"):\n",
    "    X = tf.placeholder(tf.float32, shape=[None, height, width], name=\"X\")\n",
    "    X_reshaped = tf.reshape(X, shape=[-1, height, width, channels])\n",
    "    X_normed = tf.layers.batch_normalization(X_reshaped, momentum=0.9, training=in_training_mode) \n",
    "    y = tf.placeholder(tf.int32, shape=[None], name=\"y\")\n",
    "\n",
    "conv1 = tf.layers.conv2d(X_normed, filters=conv1_fmaps, kernel_size=conv1_ksize,\n",
    "                         strides=conv1_stride, padding=\"SAME\",\n",
    "                         activation=None, name=\"conv1\")\n",
    "conv1_BN = tf.layers.batch_normalization(conv1, momentum=0.9, training=in_training_mode)\n",
    "conv1_relu = tf.nn.relu(conv1_BN) \n",
    "\n",
    "conv2 = tf.layers.conv2d(conv1_relu, filters=conv2_fmaps, kernel_size=conv2_ksize,\n",
    "                         strides=conv2_stride, padding=\"SAME\",\n",
    "                         activation=None, name=\"conv2\")\n",
    "\n",
    "conv2_BN = tf.layers.batch_normalization(conv2, momentum=0.9, training=in_training_mode)\n",
    "conv2_relu = tf.nn.relu(conv2_BN) \n",
    "\n",
    "pool1 = tf.nn.max_pool(conv2_relu, ksize=[1, 2, 2, 1], strides=[1, 2, 2, 1], padding=\"VALID\", name=\"pool1\")\n",
    "    \n",
    "\n",
    "conv3 = tf.layers.conv2d(pool1, filters=conv3_fmaps, kernel_size=conv3_ksize,\n",
    "                         strides=conv3_stride, padding=\"SAME\",\n",
    "                         activation=None, name=\"conv3\")    \n",
    "conv3_BN = tf.layers.batch_normalization(conv3, momentum=0.9, training=in_training_mode)\n",
    "conv3_relu = tf.nn.relu(conv3_BN) \n",
    "\n",
    "'''with tf.name_scope(\"pool2\"):\n",
    "    pool2 = tf.nn.max_pool(conv3_relu, ksize=[1, 2, 2, 1], strides=[1, 2, 2, 1], padding=\"VALID\")\n",
    "    pool2_flat = tf.reshape(conv3_relu, shape=[-1, pool2_fmaps * int(pool2.shape[1]) * int(pool2.shape[1])])\n",
    "'''\n",
    "conv3_flat = tf.reshape(conv3_relu, shape=[-1, conv3_fmaps * int(conv3_relu.shape[1]) * int(conv3_relu.shape[1])])\n",
    "                        \n",
    "with tf.name_scope(\"fc1\"):\n",
    "    fc1 = tf.layers.dense(conv3_flat, n_fc1, activation=tf.nn.relu, name=\"fc1\")\n",
    "    #fc1_drop = tf.layers.dropout(fc1, dropout_rate, training=in_training_mode)\n",
    "\n",
    "with tf.name_scope(\"fc2\"):\n",
    "    fc2 = tf.layers.dense(fc1, n_fc2, activation=tf.nn.relu, name=\"fc2\")\n",
    "    #fc2_drop = tf.layers.dropout(fc2, dropout_rate, training=in_training_mode)\n",
    "    \n",
    "with tf.name_scope(\"output\"):\n",
    "    logits = tf.layers.dense(fc2, n_outputs, name=\"output\")\n",
    "    Y_proba = tf.nn.softmax(logits, name=\"Y_proba\")\n",
    "\n",
    "update_ops = tf.get_collection(tf.GraphKeys.UPDATE_OPS)\n",
    "with tf.control_dependencies(update_ops):\n",
    "    xentropy = tf.nn.sparse_softmax_cross_entropy_with_logits(logits=logits, labels=y)\n",
    "    loss = tf.reduce_mean(xentropy)\n",
    "    loss_ = tf.summary.scalar('loss', loss)\n",
    "    optimizer = tf.train.AdamOptimizer()\n",
    "    training_op = optimizer.minimize(loss)\n",
    "\n",
    "with tf.name_scope(\"eval\"):\n",
    "    correct = tf.nn.in_top_k(logits, y, 1)\n",
    "    accuracy_train = tf.reduce_mean(tf.cast(correct, tf.float32))\n",
    "    accuracy_test = tf.reduce_mean(tf.cast(correct, tf.float32))\n",
    "    \n",
    "    accuracy_train_ = tf.summary.scalar('accuracy_train', accuracy_train)\n",
    "    accuracy_test_ = tf.summary.scalar('accuracy_test', accuracy_test)\n",
    "\n",
    "with tf.name_scope(\"init_and_save\"):\n",
    "    init = tf.global_variables_initializer()\n",
    "    saver = tf.train.Saver()"
   ]
  },
  {
   "cell_type": "markdown",
   "metadata": {},
   "source": [
    "### 3 conv, 1 pool, Dropout"
   ]
  },
  {
   "cell_type": "code",
   "execution_count": 131,
   "metadata": {},
   "outputs": [],
   "source": [
    "tf.reset_default_graph()\n",
    "\n",
    "conv1_fmaps = 16\n",
    "conv1_ksize = 4\n",
    "conv1_stride = 1\n",
    "\n",
    "conv2_fmaps = 32\n",
    "conv2_ksize = 4\n",
    "conv2_stride = 2\n",
    "\n",
    "conv3_fmaps = 64\n",
    "conv3_ksize = 4\n",
    "conv3_stride = 2\n",
    "\n",
    "n_fc1 = 200\n",
    "n_fc2 = 100\n",
    "n_outputs = 10\n",
    "\n",
    "in_training_mode = tf.placeholder_with_default(False, shape=[], name='training')\n",
    "dropout_rate = 0.5\n",
    "\n",
    "\n",
    "with tf.name_scope(\"inputs\"):\n",
    "    X = tf.placeholder(tf.float32, shape=[None, height, width], name=\"X\")\n",
    "    X_reshaped = tf.reshape(X, shape=[-1, height, width, channels])\n",
    "    y = tf.placeholder(tf.int32, shape=[None], name=\"y\")\n",
    "\n",
    "conv1 = tf.layers.conv2d(X_reshaped, filters=conv1_fmaps, kernel_size=conv1_ksize,\n",
    "                         strides=conv1_stride, padding=\"SAME\",\n",
    "                         activation=tf.nn.relu, name=\"conv1\")\n",
    "\n",
    "conv2 = tf.layers.conv2d(conv1, filters=conv2_fmaps, kernel_size=conv2_ksize,\n",
    "                         strides=conv2_stride, padding=\"SAME\",\n",
    "                         activation=tf.nn.relu, name=\"conv2\")\n",
    "    \n",
    "pool1 = tf.nn.max_pool(conv2, ksize=[1, 2, 2, 1], strides=[1, 2, 2, 1], padding=\"VALID\", name=\"pool1\")\n",
    "\n",
    "conv3 = tf.layers.conv2d(pool1, filters=conv3_fmaps, kernel_size=conv3_ksize,\n",
    "                         strides=conv3_stride, padding=\"SAME\",\n",
    "                         activation=tf.nn.relu, name=\"conv3\") \n",
    "\n",
    "'''with tf.name_scope(\"pool2\"):\n",
    "    pool2 = tf.nn.max_pool(conv3_relu, ksize=[1, 2, 2, 1], strides=[1, 2, 2, 1], padding=\"VALID\")\n",
    "    pool2_flat = tf.reshape(conv3_relu, shape=[-1, pool2_fmaps * int(pool2.shape[1]) * int(pool2.shape[1])])\n",
    "'''\n",
    "conv3_flat = tf.reshape(conv3, shape=[-1, conv3_fmaps * int(conv3.shape[1]) * int(conv3.shape[1])])\n",
    "\n",
    "with tf.name_scope(\"fc1\"):\n",
    "    fc1 = tf.layers.dense(conv3_flat, n_fc1, activation=tf.nn.relu, name=\"fc1\")\n",
    "    fc1_drop = tf.layers.dropout(fc1, dropout_rate, training=in_training_mode)\n",
    "\n",
    "with tf.name_scope(\"fc2\"):\n",
    "    fc2 = tf.layers.dense(fc1_drop, n_fc2, activation=tf.nn.relu, name=\"fc2\")\n",
    "    fc2_drop = tf.layers.dropout(fc2, dropout_rate, training=in_training_mode)\n",
    "    \n",
    "with tf.name_scope(\"output\"):\n",
    "    logits = tf.layers.dense(fc2_drop, n_outputs, name=\"output\")\n",
    "    Y_proba = tf.nn.softmax(logits, name=\"Y_proba\")\n",
    "\n",
    "with tf.name_scope(\"training\"):\n",
    "    xentropy = tf.nn.sparse_softmax_cross_entropy_with_logits(logits=logits, labels=y)\n",
    "    loss = tf.reduce_mean(xentropy)\n",
    "    loss_ = tf.summary.scalar('loss', loss)\n",
    "    optimizer = tf.train.AdamOptimizer()\n",
    "    training_op = optimizer.minimize(loss)\n",
    "\n",
    "with tf.name_scope(\"eval\"):\n",
    "    correct = tf.nn.in_top_k(logits, y, 1)\n",
    "    accuracy_train = tf.reduce_mean(tf.cast(correct, tf.float32))\n",
    "    accuracy_test = tf.reduce_mean(tf.cast(correct, tf.float32))\n",
    "    \n",
    "    accuracy_train_ = tf.summary.scalar('accuracy_train', accuracy_train)\n",
    "    accuracy_test_ = tf.summary.scalar('accuracy_test', accuracy_test)\n",
    "\n",
    "with tf.name_scope(\"init_and_save\"):\n",
    "    init = tf.global_variables_initializer()\n",
    "    saver = tf.train.Saver()"
   ]
  },
  {
   "cell_type": "markdown",
   "metadata": {},
   "source": [
    "### 3 conv, 1 pool, No reg"
   ]
  },
  {
   "cell_type": "code",
   "execution_count": 135,
   "metadata": {},
   "outputs": [],
   "source": [
    "tf.reset_default_graph()\n",
    "\n",
    "conv1_fmaps = 16\n",
    "conv1_ksize = 4\n",
    "conv1_stride = 1\n",
    "\n",
    "conv2_fmaps = 32\n",
    "conv2_ksize = 4\n",
    "conv2_stride = 2\n",
    "\n",
    "pool1_fmaps = conv1_fmaps\n",
    "\n",
    "conv3_fmaps = 64\n",
    "conv3_ksize = 4\n",
    "conv3_stride = 2\n",
    "\n",
    "pool2_fmaps = conv3_fmaps\n",
    "\n",
    "n_fc1 = 200\n",
    "n_fc2 = 100\n",
    "n_outputs = 10\n",
    "\n",
    "in_training_mode = tf.placeholder_with_default(False, shape=[], name='training')\n",
    "\n",
    "\n",
    "with tf.name_scope(\"inputs\"):\n",
    "    X = tf.placeholder(tf.float32, shape=[None, height, width], name=\"X\")\n",
    "    X_reshaped = tf.reshape(X, shape=[-1, height, width, channels])\n",
    "    y = tf.placeholder(tf.int32, shape=[None], name=\"y\")\n",
    "\n",
    "conv1 = tf.layers.conv2d(X_reshaped, filters=conv1_fmaps, kernel_size=conv1_ksize,\n",
    "                         strides=conv1_stride, padding=\"SAME\",\n",
    "                         activation=tf.nn.relu, name=\"conv1\")\n",
    "\n",
    "conv2 = tf.layers.conv2d(conv1, filters=conv2_fmaps, kernel_size=conv2_ksize,\n",
    "                         strides=conv2_stride, padding=\"SAME\",\n",
    "                         activation=tf.nn.relu, name=\"conv2\")\n",
    "    \n",
    "pool1 = tf.nn.max_pool(conv2, ksize=[1, 2, 2, 1], strides=[1, 2, 2, 1], padding=\"VALID\", name=\"pool1\")\n",
    "\n",
    "conv3 = tf.layers.conv2d(pool1, filters=conv3_fmaps, kernel_size=conv3_ksize,\n",
    "                         strides=conv3_stride, padding=\"SAME\",\n",
    "                         activation=tf.nn.relu, name=\"conv3\") \n",
    "\n",
    "'''with tf.name_scope(\"pool2\"):\n",
    "    pool2 = tf.nn.max_pool(conv3_relu, ksize=[1, 2, 2, 1], strides=[1, 2, 2, 1], padding=\"VALID\")\n",
    "    pool2_flat = tf.reshape(conv3_relu, shape=[-1, pool2_fmaps * int(pool2.shape[1]) * int(pool2.shape[1])])\n",
    "'''\n",
    "conv3_flat = tf.reshape(conv3, shape=[-1, conv3_fmaps * int(conv3.shape[1]) * int(conv3.shape[1])])\n",
    "\n",
    "with tf.name_scope(\"fc1\"):\n",
    "    fc1 = tf.layers.dense(conv3_flat, n_fc1, activation=tf.nn.relu, name=\"fc1\")\n",
    "\n",
    "with tf.name_scope(\"fc2\"):\n",
    "    fc2 = tf.layers.dense(fc1, n_fc2, activation=tf.nn.relu, name=\"fc2\")\n",
    "    \n",
    "with tf.name_scope(\"output\"):\n",
    "    logits = tf.layers.dense(fc2, n_outputs, name=\"output\")\n",
    "    Y_proba = tf.nn.softmax(logits, name=\"Y_proba\")\n",
    "\n",
    "with tf.name_scope(\"training\"):\n",
    "    xentropy = tf.nn.sparse_softmax_cross_entropy_with_logits(logits=logits, labels=y)\n",
    "    loss = tf.reduce_mean(xentropy)\n",
    "    loss_ = tf.summary.scalar('loss', loss)\n",
    "    optimizer = tf.train.AdamOptimizer()\n",
    "    training_op = optimizer.minimize(loss)\n",
    "\n",
    "with tf.name_scope(\"eval\"):\n",
    "    correct = tf.nn.in_top_k(logits, y, 1)\n",
    "    accuracy_train = tf.reduce_mean(tf.cast(correct, tf.float32))\n",
    "    accuracy_test = tf.reduce_mean(tf.cast(correct, tf.float32))\n",
    "    \n",
    "    accuracy_train_ = tf.summary.scalar('accuracy_train', accuracy_train)\n",
    "    accuracy_test_ = tf.summary.scalar('accuracy_test', accuracy_test)\n",
    "\n",
    "with tf.name_scope(\"init_and_save\"):\n",
    "    init = tf.global_variables_initializer()\n",
    "    saver = tf.train.Saver()"
   ]
  },
  {
   "cell_type": "markdown",
   "metadata": {},
   "source": [
    "## Increasing dataset"
   ]
  },
  {
   "cell_type": "code",
   "execution_count": 57,
   "metadata": {},
   "outputs": [],
   "source": [
    "samples_to_show = 10"
   ]
  },
  {
   "cell_type": "markdown",
   "metadata": {},
   "source": [
    "#### Testing how to change contrast (zoom and rotation have already been tested in previous notebook)"
   ]
  },
  {
   "cell_type": "code",
   "execution_count": 58,
   "metadata": {},
   "outputs": [
    {
     "data": {
      "image/png": "[encoded data removed]",
      "text/plain": [
       "<Figure size 1080x3600 with 10 Axes>"
      ]
     },
     "metadata": {
      "needs_background": "light"
     },
     "output_type": "display_data"
    }
   ],
   "source": [
    "plt.figure(figsize=(15,50)) # not shown in the book\n",
    "for iteration in range(samples_to_show):\n",
    "    plt.subplot(samples_to_show, 10, iteration + 1)\n",
    "    plot_image(X_train[iteration])"
   ]
  },
  {
   "cell_type": "code",
   "execution_count": 59,
   "metadata": {},
   "outputs": [
    {
     "data": {
      "image/png": "[encoded data removed]",
      "text/plain": [
       "<Figure size 1080x3600 with 10 Axes>"
      ]
     },
     "metadata": {
      "needs_background": "light"
     },
     "output_type": "display_data"
    }
   ],
   "source": [
    "plt.figure(figsize=(15,50)) # not shown in the book\n",
    "for iteration in range(samples_to_show):\n",
    "    plt.subplot(samples_to_show, 10, iteration + 1)\n",
    "    plot_image(np.array(ImageEnhance.Contrast(Image.fromarray(X_train[iteration])).enhance(2)))"
   ]
  },
  {
   "cell_type": "markdown",
   "metadata": {},
   "source": [
    "#### Creating a dataset artificially increased"
   ]
  },
  {
   "cell_type": "code",
   "execution_count": 63,
   "metadata": {},
   "outputs": [],
   "source": [
    "X_train_zoom1 = X_train.copy()\n",
    "X_train_zoom2 = X_train.copy()\n",
    "X_train_rotate1 = X_train.copy()\n",
    "X_train_rotate2 = X_train.copy()\n",
    "X_train_contrast1 = X_train.copy()\n",
    "X_train_contrast2 = X_train.copy()\n",
    "\n",
    "for iteration in range(samples_for_training):\n",
    "    X_train_zoom1[iteration] = clipped_zoom(X_train_zoom[iteration], 0.95)\n",
    "    X_train_zoom2[iteration] = clipped_zoom(X_train_zoom[iteration], 0.90)\n",
    "\n",
    "for iteration in range(samples_for_training):\n",
    "    X_train_rotate1[iteration] = rotate(X_train_rotate1[iteration], 5, reshape=False)    \n",
    "    X_train_rotate2[iteration] = rotate(X_train_rotate2[iteration], -5, reshape=False)\n",
    "\n",
    "for iteration in range(samples_for_training):\n",
    "    X_train_contrast1[iteration] = np.array(ImageEnhance.Contrast(Image.fromarray(X_train[iteration])).enhance(2))   \n",
    "    X_train_contrast2[iteration] = np.array(ImageEnhance.Contrast(Image.fromarray(X_train[iteration])).enhance(3))"
   ]
  },
  {
   "cell_type": "code",
   "execution_count": 64,
   "metadata": {},
   "outputs": [
    {
     "data": {
      "text/plain": [
       "(420000, 28, 28)"
      ]
     },
     "execution_count": 64,
     "metadata": {},
     "output_type": "execute_result"
    }
   ],
   "source": [
    "X_train_artificially_increased = np.concatenate((X_train, X_train_zoom1, X_train_zoom2,X_train_rotate1,X_train_rotate2,X_train_contrast1,X_train_contrast2), axis=0)\n",
    "X_train_artificially_increased.shape"
   ]
  },
  {
   "cell_type": "code",
   "execution_count": 65,
   "metadata": {},
   "outputs": [
    {
     "data": {
      "text/plain": [
       "(420000,)"
      ]
     },
     "execution_count": 65,
     "metadata": {},
     "output_type": "execute_result"
    }
   ],
   "source": [
    "y_train_artificially_increased = np.concatenate((y_train,y_train,y_train,y_train,y_train,y_train,y_train), axis=0)\n",
    "y_train_artificially_increased.shape"
   ]
  },
  {
   "cell_type": "markdown",
   "metadata": {},
   "source": [
    "## Training"
   ]
  },
  {
   "cell_type": "code",
   "execution_count": 11,
   "metadata": {},
   "outputs": [
    {
     "name": "stdout",
     "output_type": "stream",
     "text": [
      "0 Last batch accuracy: 0.91 Test accuracy: 0.8726\n",
      "1 Last batch accuracy: 0.91 Test accuracy: 0.8895\n",
      "2 Last batch accuracy: 0.84 Test accuracy: 0.8997\n",
      "3 Last batch accuracy: 0.94 Test accuracy: 0.9027\n",
      "4 Last batch accuracy: 0.93 Test accuracy: 0.8952\n",
      "5 Last batch accuracy: 0.91 Test accuracy: 0.9082\n",
      "6 Last batch accuracy: 0.92 Test accuracy: 0.9043\n",
      "7 Last batch accuracy: 0.95 Test accuracy: 0.9095\n",
      "8 Last batch accuracy: 0.95 Test accuracy: 0.9161\n",
      "9 Last batch accuracy: 0.96 Test accuracy: 0.9126\n",
      "10 Last batch accuracy: 0.95 Test accuracy: 0.9122\n",
      "11 Last batch accuracy: 0.95 Test accuracy: 0.9159\n",
      "12 Last batch accuracy: 0.98 Test accuracy: 0.9127\n",
      "13 Last batch accuracy: 0.96 Test accuracy: 0.9141\n",
      "14 Last batch accuracy: 0.99 Test accuracy: 0.9158\n",
      "15 Last batch accuracy: 0.98 Test accuracy: 0.9142\n",
      "16 Last batch accuracy: 0.93 Test accuracy: 0.9173\n",
      "17 Last batch accuracy: 0.96 Test accuracy: 0.9169\n",
      "18 Last batch accuracy: 0.98 Test accuracy: 0.9156\n",
      "19 Last batch accuracy: 0.97 Test accuracy: 0.9142\n",
      "20 Last batch accuracy: 0.96 Test accuracy: 0.9163\n",
      "21 Last batch accuracy: 0.96 Test accuracy: 0.9178\n",
      "22 Last batch accuracy: 0.98 Test accuracy: 0.9159\n",
      "23 Last batch accuracy: 0.98 Test accuracy: 0.9179\n",
      "24 Last batch accuracy: 0.98 Test accuracy: 0.9175\n",
      "25 Last batch accuracy: 0.95 Test accuracy: 0.9142\n",
      "26 Last batch accuracy: 0.97 Test accuracy: 0.9176\n",
      "27 Last batch accuracy: 0.96 Test accuracy: 0.9124\n",
      "28 Last batch accuracy: 1.0 Test accuracy: 0.9143\n",
      "29 Last batch accuracy: 0.96 Test accuracy: 0.9128\n"
     ]
    }
   ],
   "source": [
    "n_epochs = 30\n",
    "batch_size = 100\n",
    "\n",
    "now = datetime.now()\n",
    "logdir = \"tf_logs/\" + now.strftime(\"3conv_1pool_BN_Dropout_DatasetIncreasedArtBy7\") + \"/\"\n",
    "\n",
    "with tf.Session() as sess:\n",
    "    merged = tf.summary.merge([accuracy_train_,loss_])\n",
    "    tf_tensorboard_writer = tf.summary.FileWriter('./'+logdir, sess.graph)    \n",
    "    init.run()\n",
    "    for epoch in range(n_epochs):\n",
    "        for X_batch, y_batch in shuffle_batch(X_train_artificially_increased, y_train_artificially_increased, batch_size):\n",
    "            sess.run(training_op, feed_dict={X: X_batch, y: y_batch, in_training_mode : True})       \n",
    "        print(epoch, \"Last batch accuracy:\", accuracy_train.eval(feed_dict={X: X_batch, y: y_batch}), \"Test accuracy:\", accuracy_test.eval(feed_dict={X: X_test, y: y_test}))\n",
    "        \n",
    "        summary_str = sess.run(merged, feed_dict={X: X_batch, y: y_batch})\n",
    "        test_summary_str = sess.run(accuracy_test_, feed_dict={X: X_test, y: y_test})\n",
    "        tf_tensorboard_writer.add_summary(summary_str, epoch) \n",
    "        tf_tensorboard_writer.add_summary(test_summary_str, epoch) \n",
    "        save_path = saver.save(sess, MODEL_PATH + \"model\")\n",
    "        \n",
    "tf_tensorboard_writer.close()\n"
   ]
  },
  {
   "cell_type": "code",
   "execution_count": null,
   "metadata": {},
   "outputs": [],
   "source": []
  }
 ],
 "metadata": {
  "kernelspec": {
   "display_name": "Python 3",
   "language": "python",
   "name": "python3"
  },
  "language_info": {
   "codemirror_mode": {
    "name": "ipython",
    "version": 3
   },
   "file_extension": ".py",
   "mimetype": "text/x-python",
   "name": "python",
   "nbconvert_exporter": "python",
   "pygments_lexer": "ipython3",
   "version": "3.7.3"
  }
 },
 "nbformat": 4,
 "nbformat_minor": 2
}
